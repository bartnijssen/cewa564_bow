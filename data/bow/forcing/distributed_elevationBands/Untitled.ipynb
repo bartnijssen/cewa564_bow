{
 "cells": [
  {
   "cell_type": "code",
   "execution_count": null,
   "metadata": {},
   "outputs": [],
   "source": [
    "# Move files and rename while doing so"
   ]
  },
  {
   "cell_type": "code",
   "execution_count": 1,
   "metadata": {},
   "outputs": [],
   "source": [
    "import os"
   ]
  },
  {
   "cell_type": "code",
   "execution_count": 24,
   "metadata": {},
   "outputs": [],
   "source": [
    "# locations\n",
    "src = './remap/'"
   ]
  },
  {
   "cell_type": "code",
   "execution_count": 25,
   "metadata": {},
   "outputs": [],
   "source": [
    "# find files\n",
    "files = sorted(os.listdir(src))"
   ]
  },
  {
   "cell_type": "code",
   "execution_count": 26,
   "metadata": {},
   "outputs": [
    {
     "name": "stdout",
     "output_type": "stream",
     "text": [
      "['SUMMA_input_2000-10_lapsed_newGruHruSort.nc', 'SUMMA_input_2000-11_lapsed_newGruHruSort.nc', 'SUMMA_input_2000-12_lapsed_newGruHruSort.nc', 'SUMMA_input_2001-01_lapsed_newGruHruSort.nc', 'SUMMA_input_2001-02_lapsed_newGruHruSort.nc', 'SUMMA_input_2001-03_lapsed_newGruHruSort.nc', 'SUMMA_input_2001-04_lapsed_newGruHruSort.nc', 'SUMMA_input_2001-05_lapsed_newGruHruSort.nc', 'SUMMA_input_2001-06_lapsed_newGruHruSort.nc', 'SUMMA_input_2001-07_lapsed_newGruHruSort.nc', 'SUMMA_input_2001-08_lapsed_newGruHruSort.nc', 'SUMMA_input_2001-09_lapsed_newGruHruSort.nc', 'SUMMA_input_2001-10_lapsed_newGruHruSort.nc', 'SUMMA_input_2001-11_lapsed_newGruHruSort.nc', 'SUMMA_input_2001-12_lapsed_newGruHruSort.nc', 'SUMMA_input_2002-01_lapsed_newGruHruSort.nc', 'SUMMA_input_2002-02_lapsed_newGruHruSort.nc', 'SUMMA_input_2002-03_lapsed_newGruHruSort.nc', 'SUMMA_input_2002-04_lapsed_newGruHruSort.nc', 'SUMMA_input_2002-05_lapsed_newGruHruSort.nc', 'SUMMA_input_2002-06_lapsed_newGruHruSort.nc', 'SUMMA_input_2002-07_lapsed_newGruHruSort.nc', 'SUMMA_input_2002-08_lapsed_newGruHruSort.nc', 'SUMMA_input_2002-09_lapsed_newGruHruSort.nc', 'SUMMA_input_2002-10_lapsed_newGruHruSort.nc', 'SUMMA_input_2002-11_lapsed_newGruHruSort.nc', 'SUMMA_input_2002-12_lapsed_newGruHruSort.nc', 'SUMMA_input_2003-01_lapsed_newGruHruSort.nc', 'SUMMA_input_2003-02_lapsed_newGruHruSort.nc', 'SUMMA_input_2003-03_lapsed_newGruHruSort.nc', 'SUMMA_input_2003-04_lapsed_newGruHruSort.nc', 'SUMMA_input_2003-05_lapsed_newGruHruSort.nc', 'SUMMA_input_2003-06_lapsed_newGruHruSort.nc', 'SUMMA_input_2003-07_lapsed_newGruHruSort.nc', 'SUMMA_input_2003-08_lapsed_newGruHruSort.nc', 'SUMMA_input_2003-09_lapsed_newGruHruSort.nc', 'SUMMA_input_2003-10_lapsed_newGruHruSort.nc', 'SUMMA_input_2003-11_lapsed_newGruHruSort.nc', 'SUMMA_input_2003-12_lapsed_newGruHruSort.nc', 'SUMMA_input_2004-01_lapsed_newGruHruSort.nc', 'SUMMA_input_2004-02_lapsed_newGruHruSort.nc', 'SUMMA_input_2004-03_lapsed_newGruHruSort.nc', 'SUMMA_input_2004-04_lapsed_newGruHruSort.nc', 'SUMMA_input_2004-05_lapsed_newGruHruSort.nc', 'SUMMA_input_2004-06_lapsed_newGruHruSort.nc', 'SUMMA_input_2004-07_lapsed_newGruHruSort.nc', 'SUMMA_input_2004-08_lapsed_newGruHruSort.nc', 'SUMMA_input_2004-09_lapsed_newGruHruSort.nc', 'SUMMA_input_2004-10_lapsed_newGruHruSort.nc', 'SUMMA_input_2004-11_lapsed_newGruHruSort.nc', 'SUMMA_input_2004-12_lapsed_newGruHruSort.nc', 'SUMMA_input_2005-01_lapsed_newGruHruSort.nc', 'SUMMA_input_2005-02_lapsed_newGruHruSort.nc', 'SUMMA_input_2005-03_lapsed_newGruHruSort.nc', 'SUMMA_input_2005-04_lapsed_newGruHruSort.nc', 'SUMMA_input_2005-05_lapsed_newGruHruSort.nc', 'SUMMA_input_2005-06_lapsed_newGruHruSort.nc', 'SUMMA_input_2005-07_lapsed_newGruHruSort.nc', 'SUMMA_input_2005-08_lapsed_newGruHruSort.nc', 'SUMMA_input_2005-09_lapsed_newGruHruSort.nc', 'SUMMA_input_2005-10_lapsed_newGruHruSort.nc', 'SUMMA_input_2005-11_lapsed_newGruHruSort.nc', 'SUMMA_input_2005-12_lapsed_newGruHruSort.nc', 'SUMMA_input_2006-01_lapsed_newGruHruSort.nc', 'SUMMA_input_2006-02_lapsed_newGruHruSort.nc', 'SUMMA_input_2006-03_lapsed_newGruHruSort.nc', 'SUMMA_input_2006-04_lapsed_newGruHruSort.nc', 'SUMMA_input_2006-05_lapsed_newGruHruSort.nc', 'SUMMA_input_2006-06_lapsed_newGruHruSort.nc', 'SUMMA_input_2006-07_lapsed_newGruHruSort.nc', 'SUMMA_input_2006-08_lapsed_newGruHruSort.nc', 'SUMMA_input_2006-09_lapsed_newGruHruSort.nc', 'SUMMA_input_2006-10_lapsed_newGruHruSort.nc', 'SUMMA_input_2006-11_lapsed_newGruHruSort.nc', 'SUMMA_input_2006-12_lapsed_newGruHruSort.nc', 'SUMMA_input_2007-01_lapsed_newGruHruSort.nc', 'SUMMA_input_2007-02_lapsed_newGruHruSort.nc', 'SUMMA_input_2007-03_lapsed_newGruHruSort.nc', 'SUMMA_input_2007-04_lapsed_newGruHruSort.nc', 'SUMMA_input_2007-05_lapsed_newGruHruSort.nc', 'SUMMA_input_2007-06_lapsed_newGruHruSort.nc', 'SUMMA_input_2007-07_lapsed_newGruHruSort.nc', 'SUMMA_input_2007-08_lapsed_newGruHruSort.nc', 'SUMMA_input_2007-09_lapsed_newGruHruSort.nc', 'SUMMA_input_2007-10_lapsed_newGruHruSort.nc', 'SUMMA_input_2007-11_lapsed_newGruHruSort.nc', 'SUMMA_input_2007-12_lapsed_newGruHruSort.nc', 'SUMMA_input_2008-01_lapsed_newGruHruSort.nc', 'SUMMA_input_2008-02_lapsed_newGruHruSort.nc', 'SUMMA_input_2008-03_lapsed_newGruHruSort.nc', 'SUMMA_input_2008-04_lapsed_newGruHruSort.nc', 'SUMMA_input_2008-05_lapsed_newGruHruSort.nc', 'SUMMA_input_2008-06_lapsed_newGruHruSort.nc', 'SUMMA_input_2008-07_lapsed_newGruHruSort.nc', 'SUMMA_input_2008-08_lapsed_newGruHruSort.nc', 'SUMMA_input_2008-09_lapsed_newGruHruSort.nc', 'SUMMA_input_2008-10_lapsed_newGruHruSort.nc', 'SUMMA_input_2008-11_lapsed_newGruHruSort.nc', 'SUMMA_input_2008-12_lapsed_newGruHruSort.nc', 'SUMMA_input_2009-01_lapsed_newGruHruSort.nc', 'SUMMA_input_2009-02_lapsed_newGruHruSort.nc', 'SUMMA_input_2009-03_lapsed_newGruHruSort.nc', 'SUMMA_input_2009-04_lapsed_newGruHruSort.nc', 'SUMMA_input_2009-05_lapsed_newGruHruSort.nc', 'SUMMA_input_2009-06_lapsed_newGruHruSort.nc', 'SUMMA_input_2009-07_lapsed_newGruHruSort.nc', 'SUMMA_input_2009-08_lapsed_newGruHruSort.nc', 'SUMMA_input_2009-09_lapsed_newGruHruSort.nc', 'SUMMA_input_2009-10_lapsed_newGruHruSort.nc', 'SUMMA_input_2009-11_lapsed_newGruHruSort.nc', 'SUMMA_input_2009-12_lapsed_newGruHruSort.nc', 'SUMMA_input_2010-01_lapsed_newGruHruSort.nc', 'SUMMA_input_2010-02_lapsed_newGruHruSort.nc', 'SUMMA_input_2010-03_lapsed_newGruHruSort.nc', 'SUMMA_input_2010-04_lapsed_newGruHruSort.nc', 'SUMMA_input_2010-05_lapsed_newGruHruSort.nc', 'SUMMA_input_2010-06_lapsed_newGruHruSort.nc', 'SUMMA_input_2010-07_lapsed_newGruHruSort.nc', 'SUMMA_input_2010-08_lapsed_newGruHruSort.nc', 'SUMMA_input_2010-09_lapsed_newGruHruSort.nc', 'SUMMA_input_2010-10_lapsed_newGruHruSort.nc', 'SUMMA_input_2010-11_lapsed_newGruHruSort.nc', 'SUMMA_input_2010-12_lapsed_newGruHruSort.nc', 'SUMMA_input_2011-01_lapsed_newGruHruSort.nc', 'SUMMA_input_2011-02_lapsed_newGruHruSort.nc', 'SUMMA_input_2011-03_lapsed_newGruHruSort.nc', 'SUMMA_input_2011-04_lapsed_newGruHruSort.nc', 'SUMMA_input_2011-05_lapsed_newGruHruSort.nc', 'SUMMA_input_2011-06_lapsed_newGruHruSort.nc', 'SUMMA_input_2011-07_lapsed_newGruHruSort.nc', 'SUMMA_input_2011-08_lapsed_newGruHruSort.nc', 'SUMMA_input_2011-09_lapsed_newGruHruSort.nc', 'SUMMA_input_2011-10_lapsed_newGruHruSort.nc', 'SUMMA_input_2011-11_lapsed_newGruHruSort.nc', 'SUMMA_input_2011-12_lapsed_newGruHruSort.nc', 'SUMMA_input_2012-01_lapsed_newGruHruSort.nc', 'SUMMA_input_2012-02_lapsed_newGruHruSort.nc', 'SUMMA_input_2012-03_lapsed_newGruHruSort.nc', 'SUMMA_input_2012-04_lapsed_newGruHruSort.nc', 'SUMMA_input_2012-05_lapsed_newGruHruSort.nc', 'SUMMA_input_2012-06_lapsed_newGruHruSort.nc', 'SUMMA_input_2012-07_lapsed_newGruHruSort.nc', 'SUMMA_input_2012-08_lapsed_newGruHruSort.nc', 'SUMMA_input_2012-09_lapsed_newGruHruSort.nc', 'SUMMA_input_2012-10_lapsed_newGruHruSort.nc', 'SUMMA_input_2012-11_lapsed_newGruHruSort.nc', 'SUMMA_input_2012-12_lapsed_newGruHruSort.nc', 'SUMMA_input_2013-01_lapsed_newGruHruSort.nc', 'SUMMA_input_2013-02_lapsed_newGruHruSort.nc', 'SUMMA_input_2013-03_lapsed_newGruHruSort.nc', 'SUMMA_input_2013-04_lapsed_newGruHruSort.nc', 'SUMMA_input_2013-05_lapsed_newGruHruSort.nc', 'SUMMA_input_2013-06_lapsed_newGruHruSort.nc', 'SUMMA_input_2013-07_lapsed_newGruHruSort.nc', 'SUMMA_input_2013-08_lapsed_newGruHruSort.nc', 'SUMMA_input_2013-09_lapsed_newGruHruSort.nc']\n"
     ]
    }
   ],
   "source": [
    "print(files)"
   ]
  },
  {
   "cell_type": "code",
   "execution_count": 27,
   "metadata": {},
   "outputs": [],
   "source": [
    "for file in files:\n",
    "    \n",
    "    # make new name\n",
    "    new_name = file[0:19] + '.nc'\n",
    "    \n",
    "    # move\n",
    "    os.rename(src + file, new_name)"
   ]
  },
  {
   "cell_type": "code",
   "execution_count": 28,
   "metadata": {},
   "outputs": [],
   "source": [
    "# find files\n",
    "files = sorted(os.listdir())"
   ]
  },
  {
   "cell_type": "code",
   "execution_count": 33,
   "metadata": {},
   "outputs": [
    {
     "name": "stdout",
     "output_type": "stream",
     "text": [
      "['SUMMA_input_2000-10.nc', 'SUMMA_input_2000-11.nc', 'SUMMA_input_2000-12.nc', 'SUMMA_input_2001-01.nc', 'SUMMA_input_2001-02.nc', 'SUMMA_input_2001-03.nc', 'SUMMA_input_2001-04.nc', 'SUMMA_input_2001-05.nc', 'SUMMA_input_2001-06.nc', 'SUMMA_input_2001-07.nc', 'SUMMA_input_2001-08.nc', 'SUMMA_input_2001-09.nc', 'SUMMA_input_2001-10.nc', 'SUMMA_input_2001-11.nc', 'SUMMA_input_2001-12.nc', 'SUMMA_input_2002-01.nc', 'SUMMA_input_2002-02.nc', 'SUMMA_input_2002-03.nc', 'SUMMA_input_2002-04.nc', 'SUMMA_input_2002-05.nc', 'SUMMA_input_2002-06.nc', 'SUMMA_input_2002-07.nc', 'SUMMA_input_2002-08.nc', 'SUMMA_input_2002-09.nc', 'SUMMA_input_2002-10.nc', 'SUMMA_input_2002-11.nc', 'SUMMA_input_2002-12.nc', 'SUMMA_input_2003-01.nc', 'SUMMA_input_2003-02.nc', 'SUMMA_input_2003-03.nc', 'SUMMA_input_2003-04.nc', 'SUMMA_input_2003-05.nc', 'SUMMA_input_2003-06.nc', 'SUMMA_input_2003-07.nc', 'SUMMA_input_2003-08.nc', 'SUMMA_input_2003-09.nc', 'SUMMA_input_2003-10.nc', 'SUMMA_input_2003-11.nc', 'SUMMA_input_2003-12.nc', 'SUMMA_input_2004-01.nc', 'SUMMA_input_2004-02.nc', 'SUMMA_input_2004-03.nc', 'SUMMA_input_2004-04.nc', 'SUMMA_input_2004-05.nc', 'SUMMA_input_2004-06.nc', 'SUMMA_input_2004-07.nc', 'SUMMA_input_2004-08.nc', 'SUMMA_input_2004-09.nc', 'SUMMA_input_2004-10.nc', 'SUMMA_input_2004-11.nc', 'SUMMA_input_2004-12.nc', 'SUMMA_input_2005-01.nc', 'SUMMA_input_2005-02.nc', 'SUMMA_input_2005-03.nc', 'SUMMA_input_2005-04.nc', 'SUMMA_input_2005-05.nc', 'SUMMA_input_2005-06.nc', 'SUMMA_input_2005-07.nc', 'SUMMA_input_2005-08.nc', 'SUMMA_input_2005-09.nc', 'SUMMA_input_2005-10.nc', 'SUMMA_input_2005-11.nc', 'SUMMA_input_2005-12.nc', 'SUMMA_input_2006-01.nc', 'SUMMA_input_2006-02.nc', 'SUMMA_input_2006-03.nc', 'SUMMA_input_2006-04.nc', 'SUMMA_input_2006-05.nc', 'SUMMA_input_2006-06.nc', 'SUMMA_input_2006-07.nc', 'SUMMA_input_2006-08.nc', 'SUMMA_input_2006-09.nc', 'SUMMA_input_2006-10.nc', 'SUMMA_input_2006-11.nc', 'SUMMA_input_2006-12.nc', 'SUMMA_input_2007-01.nc', 'SUMMA_input_2007-02.nc', 'SUMMA_input_2007-03.nc', 'SUMMA_input_2007-04.nc', 'SUMMA_input_2007-05.nc', 'SUMMA_input_2007-06.nc', 'SUMMA_input_2007-07.nc', 'SUMMA_input_2007-08.nc', 'SUMMA_input_2007-09.nc', 'SUMMA_input_2007-10.nc', 'SUMMA_input_2007-11.nc', 'SUMMA_input_2007-12.nc', 'SUMMA_input_2008-01.nc', 'SUMMA_input_2008-02.nc', 'SUMMA_input_2008-03.nc', 'SUMMA_input_2008-04.nc', 'SUMMA_input_2008-05.nc', 'SUMMA_input_2008-06.nc', 'SUMMA_input_2008-07.nc', 'SUMMA_input_2008-08.nc', 'SUMMA_input_2008-09.nc', 'SUMMA_input_2008-10.nc', 'SUMMA_input_2008-11.nc', 'SUMMA_input_2008-12.nc', 'SUMMA_input_2009-01.nc', 'SUMMA_input_2009-02.nc', 'SUMMA_input_2009-03.nc', 'SUMMA_input_2009-04.nc', 'SUMMA_input_2009-05.nc', 'SUMMA_input_2009-06.nc', 'SUMMA_input_2009-07.nc', 'SUMMA_input_2009-08.nc', 'SUMMA_input_2009-09.nc', 'SUMMA_input_2009-10.nc', 'SUMMA_input_2009-11.nc', 'SUMMA_input_2009-12.nc', 'SUMMA_input_2010-01.nc', 'SUMMA_input_2010-02.nc', 'SUMMA_input_2010-03.nc', 'SUMMA_input_2010-04.nc', 'SUMMA_input_2010-05.nc', 'SUMMA_input_2010-06.nc', 'SUMMA_input_2010-07.nc', 'SUMMA_input_2010-08.nc', 'SUMMA_input_2010-09.nc', 'SUMMA_input_2010-10.nc', 'SUMMA_input_2010-11.nc', 'SUMMA_input_2010-12.nc', 'SUMMA_input_2011-01.nc', 'SUMMA_input_2011-02.nc', 'SUMMA_input_2011-03.nc', 'SUMMA_input_2011-04.nc', 'SUMMA_input_2011-05.nc', 'SUMMA_input_2011-06.nc', 'SUMMA_input_2011-07.nc', 'SUMMA_input_2011-08.nc', 'SUMMA_input_2011-09.nc', 'SUMMA_input_2011-10.nc', 'SUMMA_input_2011-11.nc', 'SUMMA_input_2011-12.nc', 'SUMMA_input_2012-01.nc', 'SUMMA_input_2012-02.nc', 'SUMMA_input_2012-03.nc', 'SUMMA_input_2012-04.nc', 'SUMMA_input_2012-05.nc', 'SUMMA_input_2012-06.nc', 'SUMMA_input_2012-07.nc', 'SUMMA_input_2012-08.nc', 'SUMMA_input_2012-09.nc', 'SUMMA_input_2012-10.nc', 'SUMMA_input_2012-11.nc', 'SUMMA_input_2012-12.nc', 'SUMMA_input_2013-01.nc', 'SUMMA_input_2013-02.nc', 'SUMMA_input_2013-03.nc', 'SUMMA_input_2013-04.nc', 'SUMMA_input_2013-05.nc', 'SUMMA_input_2013-06.nc', 'SUMMA_input_2013-07.nc', 'SUMMA_input_2013-08.nc', 'SUMMA_input_2013-09.nc']\n"
     ]
    }
   ],
   "source": [
    "for file in files:\n",
    "    if not file.endswith('.nc'):\n",
    "        files.remove(file)\n",
    "print(files)"
   ]
  },
  {
   "cell_type": "code",
   "execution_count": 35,
   "metadata": {},
   "outputs": [],
   "source": [
    "for file in files:\n",
    "    \n",
    "    new_name = file[0:19] + '_lapsed.nc'\n",
    "    os.rename(file,new_name)"
   ]
  },
  {
   "cell_type": "code",
   "execution_count": null,
   "metadata": {},
   "outputs": [],
   "source": []
  }
 ],
 "metadata": {
  "kernelspec": {
   "display_name": "Python 3",
   "language": "python",
   "name": "python3"
  },
  "language_info": {
   "codemirror_mode": {
    "name": "ipython",
    "version": 3
   },
   "file_extension": ".py",
   "mimetype": "text/x-python",
   "name": "python",
   "nbconvert_exporter": "python",
   "pygments_lexer": "ipython3",
   "version": "3.7.3"
  }
 },
 "nbformat": 4,
 "nbformat_minor": 4
}
